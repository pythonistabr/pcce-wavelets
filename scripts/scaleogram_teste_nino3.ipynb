{
 "cells": [
  {
   "cell_type": "markdown",
   "metadata": {},
   "source": [
    "# Example of scaleogram with the NINO3.4 SST seasonal time series\n",
    "\n",
    "This Dataset is commonly used for demo plots of with Continuous Wavelet Transform \n",
    "since the publication in 1998 of the article\n",
    "[A Practical Guide to Wavelet Analysis ](https://journals.ametsoc.org/doi/pdf/10.1175/1520-0477%281998%29079%3C0061%3AAPGTWA%3E2.0.CO%3B2).  \n",
    "\n",
    "Other plots of the same data built with several wavelet libraries can be found on the\n",
    "[Wavelet analysis in Python](http://nicolasfauchereau.github.io/climatecode/posts/wavelet-analysis-in-python/) page by Nicolas Fauchereau."
   ]
  },
  {
   "cell_type": "code",
   "execution_count": 1,
   "metadata": {},
   "outputs": [],
   "source": [
    "import  pandas as pd\n",
    "import numpy as np\n",
    "nino3 = \"http://paos.colorado.edu/research/wavelets/wave_idl/sst_nino3.dat\"\n",
    "nino3 = pd.read_table(nino3)"
   ]
  },
  {
   "cell_type": "code",
   "execution_count": 6,
   "metadata": {},
   "outputs": [],
   "source": [
    "cd .."
   ]
  },
  {
   "cell_type": "code",
   "execution_count": 7,
   "metadata": {},
   "outputs": [],
   "source": [
    "from src.scaleogram.lib import scaleogram as scg"
   ]
  },
  {
   "cell_type": "code",
   "execution_count": 8,
   "metadata": {},
   "outputs": [],
   "source": [
    "data = nino3.values.squeeze()\n",
    "N = data.size; print(\"Nb of samples of data:\", N)\n",
    "t0 = 1871; dt = 0.25\n",
    "year = t0 + np.arange(len(data))*dt"
   ]
  },
  {
   "cell_type": "code",
   "execution_count": 10,
   "metadata": {},
   "outputs": [],
   "source": [
    "import scaleogram as scg\n",
    "scales = np.logspace(1.2, 3.1, num=200, dtype=np.int32)\n",
    "#scales = np.arange(15,600, 4)\n",
    "ax = scg.cws(year, data, scales, figsize=(12,6), ylabel=\"Period [Years]\", xlabel='Year', yscale='linear')\n",
    "ticks = ax.set_yticks([2,4,8, 16,32])\n",
    "ticks = ax.set_yticklabels([2,4,8, 16,32])\n",
    "plt.show()"
   ]
  },
  {
   "cell_type": "code",
   "execution_count": 5,
   "metadata": {},
   "outputs": [],
   "source": [
    "#plt.show()"
   ]
  }
 ],
 "metadata": {
  "kernelspec": {
   "display_name": "Python 3 (ipykernel)",
   "language": "python",
   "name": "python3"
  },
  "language_info": {
   "codemirror_mode": {
    "name": "ipython",
    "version": 3
   },
   "file_extension": ".py",
   "mimetype": "text/x-python",
   "name": "python",
   "nbconvert_exporter": "python",
   "pygments_lexer": "ipython3",
   "version": "3.10.8"
  }
 },
 "nbformat": 4,
 "nbformat_minor": 2
}
