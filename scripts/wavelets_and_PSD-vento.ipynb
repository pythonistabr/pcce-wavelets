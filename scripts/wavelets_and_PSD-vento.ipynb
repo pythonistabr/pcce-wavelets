{
 "cells": [
  {
   "cell_type": "code",
   "execution_count": 1,
   "id": "d71dff27",
   "metadata": {},
   "outputs": [],
   "source": [
    "import numpy as np\n",
    "import matplotlib.pyplot as plt\n",
    "import pandas as pd\n",
    "import pywt\n",
    "import matplotlib.dates as mdates\n",
    "import cmocean as cm"
   ]
  },
  {
   "cell_type": "code",
   "execution_count": 2,
   "id": "dd987cd9",
   "metadata": {},
   "outputs": [
    {
     "data": {
      "text/plain": [
       "'/mnt/c/Users/gusta/Documents/workspace/pcce-wavelets/scripts'"
      ]
     },
     "execution_count": 2,
     "metadata": {},
     "output_type": "execute_result"
    }
   ],
   "source": [
    "pwd"
   ]
  },
  {
   "cell_type": "code",
   "execution_count": 3,
   "id": "8b65e779",
   "metadata": {},
   "outputs": [
    {
     "name": "stdout",
     "output_type": "stream",
     "text": [
      "/mnt/c/Users/gusta/Documents/workspace/pcce-wavelets\n"
     ]
    }
   ],
   "source": [
    "cd .."
   ]
  },
  {
   "cell_type": "code",
   "execution_count": 4,
   "id": "c6d775e0",
   "metadata": {},
   "outputs": [],
   "source": [
    "from src.butter_filter import butter_filter\n",
    "from src.scaleogram.lib import scaleogram as scg"
   ]
  },
  {
   "cell_type": "code",
   "execution_count": 5,
   "id": "3d6fe5cf",
   "metadata": {},
   "outputs": [],
   "source": [
    "plt.rcParams['font.size'] = 12\n",
    "plt.rcParams[\"pcolor.shading\"] = 'nearest'"
   ]
  },
  {
   "cell_type": "markdown",
   "id": "af8e7521",
   "metadata": {},
   "source": [
    "### functions"
   ]
  },
  {
   "cell_type": "code",
   "execution_count": 6,
   "id": "02eb4aa6",
   "metadata": {},
   "outputs": [],
   "source": [
    "def create_white_noise(n: int, period:float, amp: float, phase=None):\n",
    "    from numpy import cos, pi\n",
    "    \"\"\"\n",
    "    n: vecor length\n",
    "    period: time\n",
    "    amp: signal amplitude\n",
    "    phase(optional): displacement of the wave with respect to the origin \n",
    "    \"\"\"\n",
    "    if phase:\n",
    "        wave =[amp * cos((i*pi)/period + phase) for i in range(n)]\n",
    "        wave = np.array(wave)\n",
    "        return wave\n",
    "    else:\n",
    "        wave =[amp * cos((i*pi)/period) for i in range(n)]\n",
    "        wave = np.array(wave)\n",
    "        return wave"
   ]
  },
  {
   "cell_type": "code",
   "execution_count": 7,
   "id": "afb223f4",
   "metadata": {},
   "outputs": [],
   "source": [
    "def add_noise(x:pd.Series, noise:np.asarray)->np.asarray:\n",
    "    x_no_nan = x.copy()\n",
    "    nan_idx = x_no_nan.isna()\n",
    "    x_no_nan.loc[nan_idx] = 0\n",
    "    \n",
    "    r = x_no_nan + noise\n",
    "    r = np.array(x_no_nan)\n",
    "    return r"
   ]
  },
  {
   "cell_type": "markdown",
   "id": "ff8d12f1",
   "metadata": {},
   "source": [
    "### reading data"
   ]
  },
  {
   "cell_type": "code",
   "execution_count": 8,
   "id": "12543ab9",
   "metadata": {},
   "outputs": [],
   "source": [
    "ul = pd.read_csv('data/boia/ul-boia-completo.csv', delimiter=';')\n",
    "vl = pd.read_csv('data/boia/vl-boia-completo.csv', delimiter=';')\n",
    "\n",
    "dfw = pd.read_csv('data/boia/vento/vento-boia-tratado.csv', delimiter=';')"
   ]
  },
  {
   "cell_type": "code",
   "execution_count": 9,
   "id": "637bc7fb",
   "metadata": {},
   "outputs": [
    {
     "data": {
      "text/plain": [
       "Index(['wu', 'wv', 'datetime', 'year', 'month', 'day', 'time_num', 'wul',\n",
       "       'wvl', 'wuh', 'wvh'],\n",
       "      dtype='object')"
      ]
     },
     "execution_count": 9,
     "metadata": {},
     "output_type": "execute_result"
    }
   ],
   "source": [
    "dfw.columns"
   ]
  },
  {
   "cell_type": "code",
   "execution_count": 10,
   "id": "c3fc609b",
   "metadata": {},
   "outputs": [
    {
     "name": "stdout",
     "output_type": "stream",
     "text": [
      "add_noise\t butter_filter\t cm\t create_white_noise\t dfw\t mdates\t np\t pd\t plt\t \n",
      "pywt\t scg\t ul\t vl\t \n"
     ]
    }
   ],
   "source": [
    "who"
   ]
  },
  {
   "cell_type": "code",
   "execution_count": 12,
   "id": "3f3e2983",
   "metadata": {},
   "outputs": [],
   "source": [
    "ul.index = pd.to_datetime(ul.time)\n",
    "ul.index = pd.to_datetime(ul.time)\n",
    "dfw.index = pd.to_datetime(dfw.datetime)"
   ]
  },
  {
   "cell_type": "code",
   "execution_count": 19,
   "id": "6f181869",
   "metadata": {},
   "outputs": [
    {
     "data": {
      "text/plain": [
       "(Timestamp('2016-11-18 20:00:00'), Timestamp('2017-09-07 03:00:00'))"
      ]
     },
     "execution_count": 19,
     "metadata": {},
     "output_type": "execute_result"
    }
   ],
   "source": [
    "ul.index[0], ul.index[7015]"
   ]
  },
  {
   "cell_type": "code",
   "execution_count": 21,
   "id": "6986d1e5",
   "metadata": {},
   "outputs": [
    {
     "data": {
      "text/plain": [
       "(Timestamp('2016-11-18 20:00:00+0000', tz='UTC'),\n",
       " Timestamp('2017-09-07 03:00:00+0000', tz='UTC'))"
      ]
     },
     "execution_count": 21,
     "metadata": {},
     "output_type": "execute_result"
    }
   ],
   "source": [
    "dfw.index[0], dfw.index[7015]"
   ]
  },
  {
   "cell_type": "code",
   "execution_count": 22,
   "id": "c1df8f2a",
   "metadata": {},
   "outputs": [],
   "source": [
    "ul.drop(['time'], axis=1, inplace=True)\n",
    "vl.drop(['time'], axis=1, inplace=True)\n",
    "dfw.drop(['datetime', 'year', 'month', 'day', 'time_num'], axis=1, inplace=True)"
   ]
  },
  {
   "cell_type": "code",
   "execution_count": 23,
   "id": "9cdb5ed6",
   "metadata": {},
   "outputs": [],
   "source": [
    "#tserie1_start = np.datetime64('2016-12-01 00:00:00')\n",
    "#tserie1_end = np.datetime64('2017-03-31 00:00:00')"
   ]
  },
  {
   "cell_type": "code",
   "execution_count": 15,
   "id": "43780471",
   "metadata": {},
   "outputs": [],
   "source": [
    "#idx_wind = ((dfw.index>=tserie1_start) & (dfw.index<= tserie1_end))\n",
    "#idx = ((ul.index>=tserie1_start) & (ul.index <= tserie1_end))"
   ]
  },
  {
   "cell_type": "code",
   "execution_count": 24,
   "id": "ab2e330a",
   "metadata": {},
   "outputs": [],
   "source": [
    "# Ruidos\n",
    "noise1 = create_white_noise(n=3000, period=1_000, amp=0.001, phase=0.25*np.pi)\n",
    "noise2 = create_white_noise(n=3000, period=1_000, amp=0.01, phase=0)"
   ]
  }
 ],
 "metadata": {
  "kernelspec": {
   "display_name": "Python 3 (ipykernel)",
   "language": "python",
   "name": "python3"
  },
  "language_info": {
   "codemirror_mode": {
    "name": "ipython",
    "version": 3
   },
   "file_extension": ".py",
   "mimetype": "text/x-python",
   "name": "python",
   "nbconvert_exporter": "python",
   "pygments_lexer": "ipython3",
   "version": "3.8.10"
  }
 },
 "nbformat": 4,
 "nbformat_minor": 5
}
