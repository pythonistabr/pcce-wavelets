{
 "cells": [
  {
   "cell_type": "code",
   "execution_count": 1,
   "id": "d71dff27",
   "metadata": {},
   "outputs": [
    {
     "ename": "ModuleNotFoundError",
     "evalue": "No module named 'matplotlib'",
     "output_type": "error",
     "traceback": [
      "\u001b[1;31m---------------------------------------------------------------------------\u001b[0m",
      "\u001b[1;31mModuleNotFoundError\u001b[0m                       Traceback (most recent call last)",
      "Cell \u001b[1;32mIn[1], line 2\u001b[0m\n\u001b[0;32m      1\u001b[0m \u001b[38;5;28;01mimport\u001b[39;00m \u001b[38;5;21;01mnumpy\u001b[39;00m \u001b[38;5;28;01mas\u001b[39;00m \u001b[38;5;21;01mnp\u001b[39;00m\n\u001b[1;32m----> 2\u001b[0m \u001b[38;5;28;01mimport\u001b[39;00m \u001b[38;5;21;01mmatplotlib\u001b[39;00m\u001b[38;5;21;01m.\u001b[39;00m\u001b[38;5;21;01mpyplot\u001b[39;00m \u001b[38;5;28;01mas\u001b[39;00m \u001b[38;5;21;01mplt\u001b[39;00m\n\u001b[0;32m      3\u001b[0m \u001b[38;5;66;03m#import seaborn as sns\u001b[39;00m\n\u001b[0;32m      4\u001b[0m \u001b[38;5;66;03m#from scipy import signal\u001b[39;00m\n\u001b[0;32m      5\u001b[0m \u001b[38;5;28;01mimport\u001b[39;00m \u001b[38;5;21;01mpandas\u001b[39;00m \u001b[38;5;28;01mas\u001b[39;00m \u001b[38;5;21;01mpd\u001b[39;00m\n",
      "\u001b[1;31mModuleNotFoundError\u001b[0m: No module named 'matplotlib'"
     ]
    }
   ],
   "source": [
    "import numpy as np\n",
    "import matplotlib.pyplot as plt\n",
    "#import seaborn as sns\n",
    "#from scipy import signal\n",
    "import pandas as pd\n",
    "import pywt\n",
    "#import matplotlib.dates as mdates"
   ]
  },
  {
   "cell_type": "markdown",
   "id": "af8e7521",
   "metadata": {},
   "source": [
    "### functions"
   ]
  },
  {
   "cell_type": "code",
   "execution_count": null,
   "id": "02eb4aa6",
   "metadata": {},
   "outputs": [],
   "source": [
    "def create_white_noise(n: int, period:float, amp: float, phase=None):\n",
    "    from numpy import cos, pi\n",
    "    \"\"\"\n",
    "    n: vecor length\n",
    "    period: time\n",
    "    amp: signal amplitude\n",
    "    phase(optional): displacement of the wave with respect to the origin \n",
    "    \"\"\"\n",
    "    \n",
    "    if phase:\n",
    "        wave =[amp * cos((i*pi)/period + phase) for i in range(n)]\n",
    "        wave = np.array(wave)\n",
    "        return wave\n",
    "    else:\n",
    "        wave =[amp * cos((i*pi)/period) for i in range(n)]\n",
    "        wave = np.array(wave)\n",
    "        return wave"
   ]
  },
  {
   "cell_type": "code",
   "execution_count": 106,
   "id": "f67ec115",
   "metadata": {},
   "outputs": [],
   "source": [
    "# Ruidos\n",
    "noise1 = create_white_noise(n=10000, period=1_000, amp=0.01, phase=0.25*np.pi)\n",
    "#noise2 = create_white_noise(n=10000, period=1_000, amp=0.01, phase=0)"
   ]
  },
  {
   "cell_type": "markdown",
   "id": "ff8d12f1",
   "metadata": {},
   "source": [
    "### reading data"
   ]
  },
  {
   "cell_type": "code",
   "execution_count": 6,
   "id": "12543ab9",
   "metadata": {},
   "outputs": [],
   "source": [
    "data = pd.read_csv('../data/boia/ul-boia-completo.csv', delimiter=';')"
   ]
  },
  {
   "cell_type": "markdown",
   "id": "cd93faa1",
   "metadata": {},
   "source": [
    "## wavelets analysis\n",
    "\n"
   ]
  }
 ],
 "metadata": {
  "kernelspec": {
   "display_name": "Python 3 (ipykernel)",
   "language": "python",
   "name": "python3"
  },
  "language_info": {
   "codemirror_mode": {
    "name": "ipython",
    "version": 3
   },
   "file_extension": ".py",
   "mimetype": "text/x-python",
   "name": "python",
   "nbconvert_exporter": "python",
   "pygments_lexer": "ipython3",
   "version": "3.10.8"
  }
 },
 "nbformat": 4,
 "nbformat_minor": 5
}
